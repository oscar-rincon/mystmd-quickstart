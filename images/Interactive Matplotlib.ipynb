{
 "cells": [
  {
   "cell_type": "code",
   "execution_count": 1,
   "id": "13772a7d-d16e-4b20-96c8-18c5a0bc1623",
   "metadata": {},
   "outputs": [],
   "source": [
    "import numpy as np\n",
    "import matplotlib.pyplot as plt\n",
    "from ipywidgets import interact, interactive\n",
    "from IPython.display import display\n",
    "\n",
    "import numpy as np\n",
    "\n",
    "from matplotlib import pyplot as plt\n",
    "\n",
    "def plot(colormap):\n",
    "\n",
    "    fig = plt.figure()\n",
    "    n = 100_000\n",
    "    x = np.random.standard_normal(n)\n",
    "    y = 2.0 + 3.0 * x + 4.0 * np.random.standard_normal(n)\n",
    "    xlim = x.min(), x.max()\n",
    "    ylim = y.min(), y.max()\n",
    "\n",
    "    ax0 = plt.axes()\n",
    "\n",
    "    hb = plt.hexbin(x, y, gridsize=50, bins='log', cmap=colormap)\n",
    "    ax0.set(xlim=xlim, ylim=ylim)\n",
    "    ax0.set_title(\"With a log color scale\")\n",
    "    fig.colorbar(hb, ax=ax0, label='log10(N)')\n",
    "    plt.show()"
   ]
  },
  {
   "cell_type": "code",
   "execution_count": 2,
   "id": "6d25c416-e5da-41fa-8144-b9feb661c5d8",
   "metadata": {},
   "outputs": [],
   "source": [
    "import numpy as np\n",
    "import matplotlib.pyplot as plt\n",
    "from ipywidgets import interact, interactive\n",
    "from IPython.display import display\n",
    "\n",
    "import numpy as np\n",
    "\n",
    "from matplotlib import pyplot as plt\n",
    "\n",
    "def plot(colormap):\n",
    "\n",
    "    fig = plt.figure()\n",
    "    n = 100_000\n",
    "    x = np.random.standard_normal(n)\n",
    "    y = 2.0 + 3.0 * x + 4.0 * np.random.standard_normal(n)\n",
    "    xlim = x.min(), x.max()\n",
    "    ylim = y.min(), y.max()\n",
    "\n",
    "    ax0 = plt.axes()\n",
    "\n",
    "    hb = plt.hexbin(x, y, gridsize=50, bins='log', cmap=colormap)\n",
    "    ax0.set(xlim=xlim, ylim=ylim)\n",
    "    ax0.set_title(\"With a log color scale\")\n",
    "    fig.colorbar(hb, ax=ax0, label='log10(N)')\n",
    "    plt.show()"
   ]
  },
  {
   "cell_type": "code",
   "execution_count": 3,
   "id": "45713ab9-0d4a-4487-9e70-669a286a722d",
   "metadata": {},
   "outputs": [
    {
     "data": {
      "application/vnd.jupyter.widget-view+json": {
       "model_id": "eb16529314d34820b066c9ce2521d80c",
       "version_major": 2,
       "version_minor": 0
      },
      "text/plain": [
       "interactive(children=(Dropdown(description='colormap', options=('viridis', 'plasma', 'inferno', 'magma', 'civi…"
      ]
     },
     "metadata": {},
     "output_type": "display_data"
    }
   ],
   "source": [
    "w = interactive(plot, colormap=[ 'viridis', 'plasma', 'inferno', 'magma', 'cividis'])\n",
    "display(w)"
   ]
  },
  {
   "cell_type": "code",
   "execution_count": null,
   "id": "a14021b5-af11-4400-b0d4-3f379b5594b8",
   "metadata": {},
   "outputs": [],
   "source": []
  }
 ],
 "metadata": {
  "kernelspec": {
   "display_name": "Python 3 (ipykernel)",
   "language": "python",
   "name": "python3"
  },
  "language_info": {
   "codemirror_mode": {
    "name": "ipython",
    "version": 3
   },
   "file_extension": ".py",
   "mimetype": "text/x-python",
   "name": "python",
   "nbconvert_exporter": "python",
   "pygments_lexer": "ipython3",
   "version": "3.12.2"
  }
 },
 "nbformat": 4,
 "nbformat_minor": 5
}
